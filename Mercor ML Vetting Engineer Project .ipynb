{
 "cells": [
  {
   "cell_type": "code",
   "execution_count": 77,
   "id": "53c14a59",
   "metadata": {},
   "outputs": [],
   "source": [
    "import pandas as pd\n",
    "import re\n",
    "from nltk.stem import WordNetLemmatizer\n",
    "from nltk.corpus import stopwords\n",
    "from nltk.tokenize import word_tokenize"
   ]
  },
  {
   "cell_type": "markdown",
   "id": "eae84d84",
   "metadata": {},
   "source": [
    "# Used The Existing Dataset From Kaggle - https://www.kaggle.com/datasets/paramaggarwal/fashion-product-images-dataset"
   ]
  },
  {
   "cell_type": "code",
   "execution_count": 78,
   "id": "ac6c7772",
   "metadata": {},
   "outputs": [],
   "source": [
    "# Load CSV file into a pandas DataFrame\n",
    "df = pd.read_csv(\"similarity_app/dataset.csv\")"
   ]
  },
  {
   "cell_type": "markdown",
   "id": "f5fcd204",
   "metadata": {},
   "source": [
    "# Preprocess Text Data"
   ]
  },
  {
   "cell_type": "code",
   "execution_count": 79,
   "id": "b745e846",
   "metadata": {},
   "outputs": [],
   "source": [
    "# Define a function to clean and preprocess text\n",
    "def preprocess_text(text):\n",
    "    if isinstance(text, str):\n",
    "        # Remove special characters and numbers\n",
    "        text = re.sub(r'[^a-zA-Z]', ' ', text)\n",
    "        # Convert text to lowercase\n",
    "        text = text.lower()\n",
    "        # Tokenize the text\n",
    "        tokens = word_tokenize(text)\n",
    "        # Remove stop words\n",
    "        stop_words = set(stopwords.words('english'))\n",
    "        filtered_tokens = [token for token in tokens if token not in stop_words]\n",
    "        # Lemmatize the tokens\n",
    "        lemmatizer = WordNetLemmatizer()\n",
    "        lemmatized_tokens = [lemmatizer.lemmatize(token) for token in filtered_tokens]\n",
    "        # Join the tokens back into a single string\n",
    "        preprocessed_text = ' '.join(lemmatized_tokens)\n",
    "        return preprocessed_text\n",
    "    else:\n",
    "        return ''\n",
    "# Apply the preprocessing function to the correct text column in the DataFrame\n",
    "df['cleaned_text'] = df['productDisplayName'].apply(preprocess_text)\n",
    "# Save the preprocessed data to a new CSV file\n",
    "df.to_csv('preprocessed_data.csv', index=False)"
   ]
  },
  {
   "cell_type": "markdown",
   "id": "e4c42964",
   "metadata": {},
   "source": [
    "# Measure Similarity"
   ]
  },
  {
   "cell_type": "code",
   "execution_count": 80,
   "id": "cb65ee67",
   "metadata": {},
   "outputs": [],
   "source": [
    "from sklearn.feature_extraction.text import TfidfVectorizer\n",
    "from sklearn.metrics.pairwise import cosine_similarity"
   ]
  },
  {
   "cell_type": "code",
   "execution_count": 81,
   "id": "6361974c",
   "metadata": {},
   "outputs": [],
   "source": [
    "data = pd.read_csv(\"preprocessed_data.csv\")"
   ]
  },
  {
   "cell_type": "code",
   "execution_count": 82,
   "id": "449b2006",
   "metadata": {},
   "outputs": [],
   "source": [
    "# Fill missing values with an empty string\n",
    "data['cleaned_text'].fillna('', inplace=True)"
   ]
  },
  {
   "cell_type": "code",
   "execution_count": 83,
   "id": "55a538a2",
   "metadata": {},
   "outputs": [],
   "source": [
    "# Extract features using TF-IDF vectorization\n",
    "vectorizer = TfidfVectorizer()\n",
    "text_features = vectorizer.fit_transform(data['cleaned_text'])"
   ]
  },
  {
   "cell_type": "code",
   "execution_count": 84,
   "id": "bc5f4f64",
   "metadata": {},
   "outputs": [],
   "source": [
    "# Compute similarity between input text and texts in the database\n",
    "def compute_similarity(input_text, text_features):\n",
    "    input_vector = vectorizer.transform([input_text])\n",
    "    similarity_scores = cosine_similarity(input_vector, text_features)\n",
    "    similarity_scores = similarity_scores.flatten()\n",
    "    return similarity_scores"
   ]
  },
  {
   "cell_type": "code",
   "execution_count": 85,
   "id": "04e043e5",
   "metadata": {},
   "outputs": [],
   "source": [
    "# Example usage\n",
    "input_text = \"men\"\n",
    "similarity_scores = compute_similarity(input_text, text_features)"
   ]
  },
  {
   "cell_type": "code",
   "execution_count": 86,
   "id": "8615e775",
   "metadata": {},
   "outputs": [],
   "source": [
    "# Find top-k similar texts\n",
    "k = 5\n",
    "top_k_indices = similarity_scores.argsort()[-k:][::-1]\n",
    "similar_texts = data.loc[top_k_indices, 'cleaned_text']"
   ]
  },
  {
   "cell_type": "code",
   "execution_count": 87,
   "id": "00812852",
   "metadata": {},
   "outputs": [
    {
     "name": "stdout",
     "output_type": "stream",
     "text": [
      "mr men men white blue shirt\n",
      "mr men men purple shirt\n",
      "inkfruit men men blue white shirt\n",
      "mr men men green black shirt\n",
      "mr men men navy blue shirt\n"
     ]
    }
   ],
   "source": [
    "# Print the similar texts\n",
    "for text in similar_texts:\n",
    "     print(text)"
   ]
  },
  {
   "cell_type": "markdown",
   "id": "f4d27a79",
   "metadata": {},
   "source": [
    "# Ranked Results"
   ]
  },
  {
   "cell_type": "code",
   "execution_count": 88,
   "id": "bbc63e5b",
   "metadata": {},
   "outputs": [],
   "source": [
    "def find_similar_items(input_text, database_file, n):\n",
    "    # Load preprocessed CSV file into a pandas DataFrame\n",
    "    data = pd.read_csv(database_file)\n",
    "    # Fill missing values with an empty string\n",
    "    data['cleaned_text'].fillna('', inplace=True)\n",
    "    # Extract features using TF-IDF vectorization\n",
    "    vectorizer = TfidfVectorizer()\n",
    "    text_features = vectorizer.fit_transform(data['cleaned_text'])\n",
    "    # Compute similarity between input text and texts in the database\n",
    "    input_vector = vectorizer.transform([input_text])\n",
    "    similarity_scores = cosine_similarity(input_vector, text_features)\n",
    "    similarity_scores = similarity_scores.flatten()\n",
    "    # Find top-N similar items\n",
    "    top_n_indices = similarity_scores.argsort()[-n:][::-1]\n",
    "    similar_items = data.loc[top_n_indices, 'link']\n",
    "    return similar_items.tolist()"
   ]
  },
  {
   "cell_type": "code",
   "execution_count": 90,
   "id": "4331f78e",
   "metadata": {},
   "outputs": [
    {
     "name": "stdout",
     "output_type": "stream",
     "text": [
      "http://assets.myntassets.com/assets/images/51623/2016/5/20/11463745850786-Fossil-Women-Pink-Dial-Chronograph-Watch-ES3050-9371463745850648-1.jpg\n",
      "http://assets.myntassets.com/v1/images/style/properties/Colorbar-Neutral-Triple-Act-Compact-001_9f89991d3bdb3129ea3d5e7d5d0ce5eb_images.jpg\n",
      "http://assets.myntassets.com/v1/images/style/properties/d96f9ac926f29dde74fb606a6ee8a7a8_images.jpg\n",
      "http://assets.myntassets.com/v1/images/style/properties/OTLS-Unisex-Beige-Bag_3be5576a798000bf84ba1829260e2e86_images.jpg\n",
      "http://assets.myntassets.com/v1/images/style/properties/07dbb0a65f012de46ce5df53e5cce0aa_images.jpg\n"
     ]
    }
   ],
   "source": [
    "# Example usage\n",
    "input_text = \"women\"\n",
    "database_file = \"preprocessed_data.csv\"\n",
    "n = 5\n",
    "similar_items = find_similar_items(input_text, database_file, n)\n",
    "# Print the URLs of the most similar items\n",
    "for url in similar_items:\n",
    "     print(url)"
   ]
  }
 ],
 "metadata": {
  "kernelspec": {
   "display_name": "Python 3",
   "language": "python",
   "name": "python3"
  },
  "language_info": {
   "codemirror_mode": {
    "name": "ipython",
    "version": 3
   },
   "file_extension": ".py",
   "mimetype": "text/x-python",
   "name": "python",
   "nbconvert_exporter": "python",
   "pygments_lexer": "ipython3",
   "version": "3.8.8"
  }
 },
 "nbformat": 4,
 "nbformat_minor": 5
}
